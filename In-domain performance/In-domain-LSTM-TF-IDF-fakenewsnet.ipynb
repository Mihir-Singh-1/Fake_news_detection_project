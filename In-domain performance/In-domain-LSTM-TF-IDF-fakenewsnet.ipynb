version https://git-lfs.github.com/spec/v1
oid sha256:8671211bc2e3a2c9f0a5e7326392a85421b98af331e94f065c5561d18dd0ba2d
size 74961
